{
 "cells": [
  {
   "cell_type": "code",
   "execution_count": 3,
   "id": "008a92bb",
   "metadata": {},
   "outputs": [
    {
     "name": "stdout",
     "output_type": "stream",
     "text": [
      "[('Janis', 'Springate', 44, 'F', '2XL', '1', 'Maroon', 11), ('Aileen', 'Bordessa', 36, 'F', '3XL', '1', 'Maroon', 13), ('Lauralee', 'Joriot', 40, 'F', 'M', '0', 'Turquoise', 7), ('Dianna', 'Forryan', 40, 'F', 'XS', '1', 'Turquoise', 4), ('Lisbeth', 'McPhelimey', 44, 'F', 'S', '0', 'Teal', 23), ('Pandora', 'Sinnocke', 47, 'F', 'L', '1', 'Blue', 6), ('Linnea', 'Glasby', 28, 'F', '2XL', '1', 'Khaki', 16), ('Catherin', 'Davidek', 44, 'F', 'XS', '1', 'Aquamarine', 18), ('Tine', 'Blesing', 43, 'F', '3XL', '1', 'Crimson', 14), ('Jerrylee', 'Pembery', 43, 'F', 'XS', '1', 'Teal', 12)]\n"
     ]
    }
   ],
   "source": [
    "import mysql.connector\n",
    "\n",
    "# Create function to use for reading data\n",
    "def read_db(query):\n",
    "    cursor = connection.cursor()\n",
    "    cursor.execute(query)\n",
    "    result = cursor.fetchall()\n",
    "    return result\n",
    "\n",
    "# This script is an example and will not run without the specific MySQL database\n",
    "\n",
    "# Create a connection object\n",
    "connection = mysql.connector.connect(host=\"localhost\",user=\"root\",passwd=\"password\",database=\"Marketing\")\n",
    "\n",
    "# Create a query string\n",
    "query = \"SELECT * FROM MARKETING_DATA WHERE gender = 'F' LIMIT 10;\"\n",
    "\n",
    "# Read results from database - returns a tuple\n",
    "result = read_db(query)\n",
    "\n",
    "print(result)\n",
    "\n"
   ]
  },
  {
   "cell_type": "code",
   "execution_count": 4,
   "id": "241fcd8a",
   "metadata": {},
   "outputs": [
    {
     "name": "stdout",
     "output_type": "stream",
     "text": [
      "[('Lauralee', 'Joriot', 40, 'F', 'M', '0', 'Turquoise', 7), ('Lisbeth', 'McPhelimey', 44, 'F', 'S', '0', 'Teal', 23), ('Baryram', 'Melmore', 47, 'M', '2XL', '0', 'Violet', 20), ('Hilarius', 'Tolhurst', 45, 'M', '2XL', '0', 'Violet', 13), ('Clim', 'Grandisson', 50, 'M', '2XL', '1', 'Puce', 2), ('Padraic', 'Gueste', 40, 'M', 'S', '1', 'Puce', 12), ('Jose', 'Barwise', 32, 'M', '3XL', '1', 'Turquoise', 2), ('Alonso', 'Ransbury', 39, 'M', 'L', '1', 'Khaki', 4), ('Manuel', 'Skentelbury', 45, 'M', 'L', '1', 'Fuscia', 19), ('Wolf', 'Danbi', 44, 'M', '3XL', '0', 'Red', 24)]\n"
     ]
    }
   ],
   "source": [
    "# Example 2 with cursor\n",
    "\n",
    "# Get cursor from connection\n",
    "cursor = connection.cursor()\n",
    "\n",
    "# Create query with parameters to be filled in later (from user input for example)\n",
    "query = \"SELECT * FROM MARKETING_DATA WHERE gender = %s OR has_card = %s LIMIT 10;\"\n",
    "\n",
    "# Execute query with tuple of parameters\n",
    "cursor.execute(query, (\"M\",0))\n",
    "\n",
    "# Get list of all rows returned by query \n",
    "rows = cursor.fetchall()\n",
    "\n",
    "print(rows)"
   ]
  },
  {
   "cell_type": "code",
   "execution_count": null,
   "id": "2ea5e3f7",
   "metadata": {},
   "outputs": [],
   "source": []
  }
 ],
 "metadata": {
  "kernelspec": {
   "display_name": "Python 3 (ipykernel)",
   "language": "python",
   "name": "python3"
  },
  "language_info": {
   "codemirror_mode": {
    "name": "ipython",
    "version": 3
   },
   "file_extension": ".py",
   "mimetype": "text/x-python",
   "name": "python",
   "nbconvert_exporter": "python",
   "pygments_lexer": "ipython3",
   "version": "3.9.6"
  }
 },
 "nbformat": 4,
 "nbformat_minor": 5
}
