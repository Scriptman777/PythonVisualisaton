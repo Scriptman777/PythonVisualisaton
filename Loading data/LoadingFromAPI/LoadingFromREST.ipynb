{
 "cells": [
  {
   "cell_type": "code",
   "execution_count": 1,
   "id": "c7774e32",
   "metadata": {},
   "outputs": [
    {
     "name": "stdout",
     "output_type": "stream",
     "text": [
      "{'male': 7, 'female': 13}\n"
     ]
    }
   ],
   "source": [
    "import requests\n",
    "\n",
    "# Get data from API. More info: https://gorest.co.in/\n",
    "response = requests.get('https://gorest.co.in/public/v1/users')\n",
    "# Get JSON from response\n",
    "json_response = response.json()\n",
    "# This JSON has two parts 'meta' and 'data'. Take just the data portion\n",
    "json_data = json_response.get('data')\n",
    "# Create a dictionary\n",
    "gender_count = {'male': 0, 'female': 0}\n",
    "# Go through the data, each user object is a JSON\n",
    "for user in json_data:\n",
    "    gender = user.get('gender')\n",
    "    if gender == 'male':\n",
    "        gender_count['male'] = gender_count['male'] + 1\n",
    "    if gender == 'female':\n",
    "        gender_count['female'] = gender_count['female'] + 1\n",
    "# Final data\n",
    "print(gender_count)"
   ]
  },
  {
   "cell_type": "code",
   "execution_count": null,
   "id": "852f973b",
   "metadata": {},
   "outputs": [],
   "source": []
  }
 ],
 "metadata": {
  "kernelspec": {
   "display_name": "Python 3 (ipykernel)",
   "language": "python",
   "name": "python3"
  },
  "language_info": {
   "codemirror_mode": {
    "name": "ipython",
    "version": 3
   },
   "file_extension": ".py",
   "mimetype": "text/x-python",
   "name": "python",
   "nbconvert_exporter": "python",
   "pygments_lexer": "ipython3",
   "version": "3.9.6"
  }
 },
 "nbformat": 4,
 "nbformat_minor": 5
}
