{
 "cells": [
  {
   "cell_type": "code",
   "execution_count": 1,
   "id": "ca34e0e8",
   "metadata": {},
   "outputs": [
    {
     "name": "stdout",
     "output_type": "stream",
     "text": [
      "<Response [200]>\n",
      "['6', '6', '7', '7', '7', '3', '10', '7', '9', '3', '4', '8', '3', '8', '5', '7', '1', '9', '9', '5']\n"
     ]
    }
   ],
   "source": [
    "import requests\n",
    "\n",
    "# Get response from the random.org API - 20 numbers from 1 to 10.\n",
    "# API documentation: https://www.random.org/clients/http/\n",
    "response = requests.get('https://www.random.org/integers/?num=20&min=1&max=10&col=1&base=10&format=plain&rnd=new')\n",
    "# Get content from response, in this case it is a byte string, so it needs to be decoded\n",
    "content = response.content.decode(\"utf-8\") \n",
    "# Numbers are separated by newline characters\n",
    "numbers = content.split('\\n')\n",
    "# Last item is empty, sinc string ends with a newline\n",
    "numbers.remove('')\n",
    "# Priting the response will show HTTP code, this might be useful for debugging\n",
    "print(response)\n",
    "# Result is a list of random numbers\n",
    "print(numbers)\n",
    "\n"
   ]
  },
  {
   "cell_type": "code",
   "execution_count": null,
   "id": "aa378ece",
   "metadata": {},
   "outputs": [],
   "source": []
  }
 ],
 "metadata": {
  "kernelspec": {
   "display_name": "Python 3 (ipykernel)",
   "language": "python",
   "name": "python3"
  },
  "language_info": {
   "codemirror_mode": {
    "name": "ipython",
    "version": 3
   },
   "file_extension": ".py",
   "mimetype": "text/x-python",
   "name": "python",
   "nbconvert_exporter": "python",
   "pygments_lexer": "ipython3",
   "version": "3.9.6"
  }
 },
 "nbformat": 4,
 "nbformat_minor": 5
}
