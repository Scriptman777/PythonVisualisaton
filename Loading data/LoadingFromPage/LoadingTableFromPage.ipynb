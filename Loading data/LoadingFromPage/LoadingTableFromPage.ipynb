{
 "cells": [
  {
   "cell_type": "code",
   "execution_count": 1,
   "id": "7217b897",
   "metadata": {},
   "outputs": [
    {
     "name": "stdout",
     "output_type": "stream",
     "text": [
      "                  Date  H [cm]  Q [m3.s-1]  QN\n",
      "0  2022-12-03 10:15:00      50        4539 NaN\n",
      "1  2022-12-03 10:00:00      50        4542 NaN\n",
      "2  2022-12-03 09:00:00      50        4539 NaN\n",
      "3  2022-12-03 08:00:00      50        4539 NaN\n",
      "4  2022-12-03 07:00:00      50        4542 NaN\n",
      "5  2022-12-03 06:00:00      50        4522 NaN\n",
      "6  2022-12-03 05:00:00      50        4539 NaN\n",
      "7  2022-12-03 04:00:00      50        4542 NaN\n",
      "8  2022-12-03 03:00:00      50        4542 NaN\n",
      "9  2022-12-03 02:00:00      50        4545 NaN\n",
      "10 2022-12-03 01:00:00      50        4525 NaN\n",
      "11 2022-12-03 00:00:00      50        4528 NaN\n",
      "12 2022-11-03 23:00:00      50        4532 NaN\n",
      "13 2022-11-03 22:00:00      50        4539 NaN\n",
      "14 2022-11-03 21:00:00      50        4539 NaN\n",
      "15 2022-11-03 20:00:00      50        4522 NaN\n",
      "16 2022-11-03 19:00:00      50        4542 NaN\n",
      "17 2022-11-03 18:00:00      50        4539 NaN\n",
      "18 2022-11-03 17:00:00      50        4528 NaN\n",
      "19 2022-11-03 16:00:00      50        4542 NaN\n",
      "20 2022-11-03 15:00:00      50        4535 NaN\n",
      "21 2022-11-03 14:00:00      50        4542 NaN\n",
      "22 2022-11-03 13:00:00      50        4542 NaN\n",
      "23 2022-11-03 12:00:00      50        4539 NaN\n",
      "24 2022-11-03 11:00:00      50        4542 NaN\n",
      "25 2022-11-03 07:00:00      57        6284 NaN\n",
      "26 2022-10-03 07:00:00      57        6253 NaN\n",
      "27 2022-09-03 07:00:00      57        6258 NaN\n",
      "28 2022-08-03 07:00:00      64        8305 NaN\n",
      "29 2022-07-03 07:00:00      64        8305 NaN\n",
      "30 2022-06-03 07:00:00      63        8281 NaN\n"
     ]
    }
   ],
   "source": [
    "from bs4 import BeautifulSoup\n",
    "from urllib.request import urlopen\n",
    "import pandas as pd\n",
    "\n",
    "\n",
    "# Load table from http://www.pla.cz/portal/sap/cz/PC/Mereni.aspx?id=56&oid=1\n",
    "\n",
    "# Open url\n",
    "page_url = urlopen(\"http://www.pla.cz/portal/sap/cz/PC/Mereni.aspx?id=56&oid=1\")\n",
    "# Read whole page\n",
    "all_content = page_url.read().decode(\"utf-8\")\n",
    "# Create a BeautifulSoup object\n",
    "soup = BeautifulSoup(all_content, \"html.parser\")\n",
    "# There is only one ID on a page\n",
    "table = soup.find(id='ObsahCPH_DataMereniGV')\n",
    "# Create DataFrame from table\n",
    "df = pd.read_html(str(table))[0]\n",
    "# Rename unnamed date column\n",
    "df = df.rename(columns={'Unnamed: 0': 'Date'})\n",
    "# Change datatype to datetime\n",
    "df['Date'] = pd.to_datetime(df['Date'])\n",
    "\n",
    "print(df)"
   ]
  },
  {
   "cell_type": "code",
   "execution_count": null,
   "id": "7ffe8e5a",
   "metadata": {},
   "outputs": [],
   "source": []
  }
 ],
 "metadata": {
  "kernelspec": {
   "display_name": "Python 3 (ipykernel)",
   "language": "python",
   "name": "python3"
  },
  "language_info": {
   "codemirror_mode": {
    "name": "ipython",
    "version": 3
   },
   "file_extension": ".py",
   "mimetype": "text/x-python",
   "name": "python",
   "nbconvert_exporter": "python",
   "pygments_lexer": "ipython3",
   "version": "3.9.6"
  }
 },
 "nbformat": 4,
 "nbformat_minor": 5
}
