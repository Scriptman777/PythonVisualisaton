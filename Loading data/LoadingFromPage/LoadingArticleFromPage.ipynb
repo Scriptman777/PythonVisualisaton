{
 "cells": [
  {
   "cell_type": "code",
   "execution_count": 1,
   "id": "81607895",
   "metadata": {},
   "outputs": [
    {
     "name": "stdout",
     "output_type": "stream",
     "text": [
      "['\\nV moderním kampusu Univerzity Hradec Králové, pár kroků od historického centra města, se potkává tisíce mladých lidí, studentů tuzemských i\\xa0zahraničních. Kromě přednáškových sálů, seminárních a\\xa0počítačových učeben je zde i\\xa0univerzitní knihovna, prodejna skript, galerie výtvarného umění ale také relaxační zóny, kantýny a\\xa0další místa k\\xa0odpočinku.\\xa0Spektrum vzdělávací činnosti zahrnuje obory ekonomické, informatické a\\xa0manažerské na Fakultě informatiky a\\xa0managementu, učitelské, umělecké a\\xa0jazykovědné disciplíny na Pedagogické fakultě, přírodovědné a\\xa0technické obory na Přírodovědecké fakultě, společenské a\\xa0humanitní vědy na Filozofické fakultě.\\nUHK plní roli vědecké instituce a\\xa0nabízí studentům zapojení do výzkumných grantů a\\xa0soutěží. Díky bohatým mezinárodním vazbám s\\xa0institucemi ve více než 60 zemích Severní i\\xa0Jižní Ameriky, Afriky, Asie i\\xa0Evropy mohou studenti univerzity získat cenné odborné i\\xa0životní zkušenosti při studijních a\\xa0pracovních pobytech v\\xa0zahraničí.\\nRankingy a\\xa0univerzita\\nUniverzita Hradec Králové dlouhodobě posiluje svoji pozici mezi univerzitami v\\xa0mezinárodním srovnání. Díky neúnavné snaze našich akademiků a\\xa0dalších zaměstnanců ale samozřejmě také ve velké míře díky studentům se nám společně podařilo se umístit v\\xa0několika prestižních žebříčcích.\\n\\nQS World University Rankings\\nŽebříček\\xa0QS World University Rankings je považován za jeden ze tří nejprestižnějších a\\xa0nejdůvěryhodnějších mezinárodních srovnání, které kvality vysokých škol poměřují. V\\xa0roce 2021 se UHK poprvé dostala do toho žebříčku na sdílenou\\xa0801. – 1000. pozici.\\xa0V\\xa0českém prostředí patří UHK mezi deset nejlepších.\\xa0\\n\\nQS University Ranking\\xa0Emerging Europe & Central Asia\\nSvětoznámý QS World Ranking pravidelně vytváří také dílčí žebříček pro „Emerging Europe & Central Asia“. V\\xa0této kategorii se UHK za rok 2021 umístila na 176. místě. Žebříček zkoumá zejména internacionalizaci studia a\\xa0výzkumného prostředí.\\n\\nJedním z\\xa0nich je Times Higher Education, UHK v\\xa0tomto ohledu figuruje hned v\\xa0dalších pěti variantách tohoto rankingu. V\\xa0THE World University Rankings jsme za rok 2022 na kolektivním 1201+ místě. Komplexní metodologie hodnocení se sestává z\\xa013 indikátorů, které se věnují ukazatelům: výuka, věda a\\xa0výzkum, transfer znalostí a\\xa0internacionalizace.\\nTHE BY SUBJECT: Education\\nWorld University Rankings by subject: Education zdůrazňuje univerzity, které vedou napříč následujícími obory: vzdělávání, vzdělávání učitelů a\\xa0akademická studia ve vzdělávání. V\\xa0roce 2021 jsme se umístili jako 7. česká univerzita na sdíleném 501+ místě.\\nTHE BY SUBJECT: Physical Science\\nTabulka předmětů přírodních věd používá stejně přísné výkonnostní ukazatele jako Times Higher Education World University Rankings, ale metodika byla překalibrována tak, aby vyhovovala jednotlivým oborům. Zdůrazňuje univerzity, které vedou napříč následujícími obory: matematika a\\xa0statistika, fyzika a\\xa0astronomie, chemie, geologie, environmentální vědy a\\xa0podobně. Za rok 2022 jsme se umísťili na kolektivním 1001+ místě.\\nTHE BY SUBJECT: Computer Science\\nRanking v\\xa0oblasti informatiky UHK zařadil na 801+ místo jako 8. z\\xa0českých univerzit.\\nTHE Young Universities\\nDo tohoto rankingu patří špičkové světové mladé univerzity staré méně než 50 let. Metodika odráží zvláštní charakteristiky mladších univerzit a\\xa0klade menší důraz na subjektivní ukazatele akademické reputace. Univerzity jsou posuzovány ve všech jejich hlavních poslání - výuce, výzkumu, transferu znalostí a\\xa0mezinárodním výhledu a\\xa0poskytnout nejkomplexnější a\\xa0nejvyváženější srovnání, které je k\\xa0dispozici.\\nUniverzitě Hradec Králové se podařilo, stejně jako v\\xa0roce 2021, obhájit\\xa0351-400 místo.\\nTHE Emerging Economies\\nTento ranking zahrnuje pouze instituce na teritoriích klasifikovaných skupinou FTSE na londýnské burze cenných papírů jako „rozvinuté rozvíjející se“, „sekundárně vznikající“ nebo „hraniční“. Metodika přikládá menší váhu excelence výzkumu, což odráží méně vyspělé výzkumné systémy v\\xa0mnoha rozvojových zemích, a\\xa0větší váhu vazbám na průmysl a\\xa0mezinárodní perspektivě. V\\xa0roce 2022 se UHK umístila na 401-500 místě.\\n\\nUI Green Metric\\nNaše univerzita se už pravidelně umisťuje v\\xa0žebříčku UI Green Metric. Za rok 2020 jsme na 438. místě světově a\\xa0na 3. místě v\\xa0rámci České republiky. Žebříček informuje o\\xa0snahách jednotlivých univerzit být ekologicky udržitelnou institucí a\\xa0zakládá se na\\xa0hodnocení několika kritérií: vzdělávání a\\xa0výzkum související s\\xa0tématikou životního prostředí, infrastruktura, spotřeba a\\xa0úspora energie, vody, nakládání s\\xa0odpady a\\xa0další.\\n\\xa0\\n']\n"
     ]
    }
   ],
   "source": [
    "from bs4 import BeautifulSoup\n",
    "from urllib.request import urlopen\n",
    "\n",
    "\n",
    "# Load article from https://www.uhk.cz/cs/univerzita-hradec-kralove/uhk/o-univerzite\n",
    "\n",
    "# Open url\n",
    "page_url = urlopen(\"https://www.uhk.cz/cs/univerzita-hradec-kralove/uhk/o-univerzite\")\n",
    "# Read whole page\n",
    "all_content = page_url.read().decode(\"utf-8\")\n",
    "# Create a BeautifulSoup object\n",
    "soup = BeautifulSoup(all_content, \"html.parser\")\n",
    "# Text of article is in class \"wysiwyg-content\", there can be more results\n",
    "results = soup.find_all(class_=\"wysiwyg-content\")\n",
    "# Get text from div(s)\n",
    "content_list = []\n",
    "for result in results:\n",
    "    content_list.append(result.get_text())\n",
    "\n",
    "\n",
    "print(content_list)"
   ]
  },
  {
   "cell_type": "code",
   "execution_count": null,
   "id": "3ab0abd7",
   "metadata": {},
   "outputs": [],
   "source": []
  }
 ],
 "metadata": {
  "kernelspec": {
   "display_name": "Python 3 (ipykernel)",
   "language": "python",
   "name": "python3"
  },
  "language_info": {
   "codemirror_mode": {
    "name": "ipython",
    "version": 3
   },
   "file_extension": ".py",
   "mimetype": "text/x-python",
   "name": "python",
   "nbconvert_exporter": "python",
   "pygments_lexer": "ipython3",
   "version": "3.9.6"
  }
 },
 "nbformat": 4,
 "nbformat_minor": 5
}
